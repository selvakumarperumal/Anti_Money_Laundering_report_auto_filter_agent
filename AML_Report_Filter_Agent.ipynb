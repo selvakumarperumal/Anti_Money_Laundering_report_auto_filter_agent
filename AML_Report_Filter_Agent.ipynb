{
 "cells": [
  {
   "cell_type": "code",
   "execution_count": 8,
   "id": "1bf5d0ca",
   "metadata": {},
   "outputs": [
    {
     "data": {
      "text/plain": [
       "True"
      ]
     },
     "execution_count": 8,
     "metadata": {},
     "output_type": "execute_result"
    }
   ],
   "source": [
    "from langchain_mistralai.chat_models import ChatMistralAI\n",
    "from dotenv import load_dotenv\n",
    "from pydantic_settings import BaseSettings\n",
    "\n",
    "load_dotenv(\"./.env\")\n"
   ]
  },
  {
   "cell_type": "code",
   "execution_count": 9,
   "id": "11027f82",
   "metadata": {},
   "outputs": [],
   "source": [
    "class MistralENV(BaseSettings):\n",
    "    MISTRAL_API_KEY: str\n",
    "    MODEL_NAME: str\n",
    "    TEMPERATURE: float"
   ]
  },
  {
   "cell_type": "code",
   "execution_count": 10,
   "id": "fcfddda1",
   "metadata": {},
   "outputs": [],
   "source": [
    "class MistralChatModel(ChatMistralAI):\n",
    "    def __init__(self, env: MistralENV):\n",
    "        super().__init__(\n",
    "            api_key=env.MISTRAL_API_KEY,\n",
    "            model_name=env.MODEL_NAME,\n",
    "            temperature=env.TEMPERATURE,\n",
    "        )"
   ]
  },
  {
   "cell_type": "markdown",
   "id": "90dc006f",
   "metadata": {},
   "source": [
    "--------State definition---------"
   ]
  },
  {
   "cell_type": "code",
   "execution_count": 12,
   "id": "4dd2f293",
   "metadata": {},
   "outputs": [],
   "source": [
    "from pydantic import BaseModel\n",
    "from typing import List, Dict, Any"
   ]
  },
  {
   "cell_type": "code",
   "execution_count": 13,
   "id": "081f3527",
   "metadata": {},
   "outputs": [],
   "source": [
    "class AMLState(BaseModel):\n",
    "    alert: Dict[str, Any]\n",
    "    enrichments: Dict[str, Any]\n",
    "    risk: Dict[str, Any]\n",
    "    draft: Dict[str, Any]"
   ]
  },
  {
   "cell_type": "markdown",
   "id": "ffcecb13",
   "metadata": {},
   "source": [
    "### ===================================\n",
    "# Tools / Mock Implementation\n",
    "### ==================================="
   ]
  },
  {
   "cell_type": "code",
   "execution_count": 14,
   "id": "67d57368",
   "metadata": {},
   "outputs": [],
   "source": [
    "import random"
   ]
  },
  {
   "cell_type": "code",
   "execution_count": 17,
   "id": "e92e0e84",
   "metadata": {},
   "outputs": [],
   "source": [
    "def kyc_lookup(customer_id: str) -> Dict[str, Any]:\n",
    "    # Mock implementation of KYC lookup with random Indian data\n",
    "\n",
    "    \"\"\"\n",
    "    Simulates retrieving KYC information for a customer.\n",
    "    In real systems, this would query the core banking / KYC database.\n",
    "    \"\"\"\n",
    "    \n",
    "    names = [\n",
    "        \"Amit Sharma\", \"Priya Singh\", \"Rahul Verma\", \"Sneha Patel\", \"Vikram Rao\",\n",
    "        \"Anjali Mehta\", \"Rohan Gupta\", \"Neha Nair\", \"Suresh Kumar\", \"Pooja Joshi\"\n",
    "    ]\n",
    "    addresses = [\n",
    "        \"12 MG Road, Bengaluru, Karnataka\",\n",
    "        \"45 Nehru Street, Chennai, Tamil Nadu\",\n",
    "        \"78 Park Lane, Mumbai, Maharashtra\",\n",
    "        \"23 Sector 15, Noida, Uttar Pradesh\",\n",
    "        \"56 Salt Lake, Kolkata, West Bengal\",\n",
    "        \"34 Banjara Hills, Hyderabad, Telangana\",\n",
    "        \"89 Civil Lines, Jaipur, Rajasthan\",\n",
    "        \"67 Anna Nagar, Madurai, Tamil Nadu\",\n",
    "        \"101 Vashi, Navi Mumbai, Maharashtra\",\n",
    "        \"5 Connaught Place, New Delhi, Delhi\"\n",
    "    ]\n",
    "    # Generate random date of birth between 1970-01-01 and 2000-12-31\n",
    "    year = random.randint(1970, 2000)\n",
    "    month = random.randint(1, 12)\n",
    "    day = random.randint(1, 28)\n",
    "    dob = f\"{year:04d}-{month:02d}-{day:02d}\"\n",
    "    return {\n",
    "        \"customer_id\": customer_id,\n",
    "        \"name\": random.choice(names),\n",
    "        \"dob\": dob,\n",
    "        \"address\": random.choice(addresses),\n",
    "        \"occupation\": random.choice([\"Engineer\", \"Doctor\", \"Teacher\", \"Artist\", \"Scientist\", \"Businessman\", \"Lawyer\", \"Accountant\", \"Nurse\", \"Architect\",\n",
    "                                     \"Politician\", \"Civil Servant\", \"Military Personnel\", \"Religious Leader\", \"Journalist\", \"Diplomat\"]),\n",
    "        \"risk_flags\": random.choice([\"high\", \"low\", \"medium\"]),\n",
    "        \"pep\": random.choice([True, False]),\n",
    "    }"
   ]
  },
  {
   "cell_type": "code",
   "execution_count": 18,
   "id": "33ec95e5",
   "metadata": {},
   "outputs": [],
   "source": [
    "def transaction_analyzer(customer_id: str) -> dict:\n",
    "    \"\"\"\n",
    "    Simulates transaction analysis for suspicious patterns.\n",
    "    In real systems, this would query transaction monitoring engines.\n",
    "    \"\"\"\n",
    "\n",
    "    patterns =[\n",
    "        \"structuring_pattern\",\n",
    "        \"rapid_movement\",\n",
    "        \"layering_activity\",\n",
    "        \"cash_intensive\",\n",
    "        \"third_party_payments\",\n",
    "        \"crypto_activity\",\n",
    "        \"unusual_jusrisdiction\"\n",
    "    ]\n",
    "\n",
    "    suspicious_pattern = random.sample(patterns, k=random.randint(0, 3))\n",
    "\n",
    "    return {\n",
    "        \"customer_id\": customer_id,\n",
    "        \"suspicious_patterns\": suspicious_pattern,\n",
    "        \"last_6_months_txn_count\": random.randint(10, 500),\n",
    "        \"last_6_months_txn_amount\": round(random.uniform(10000, 1000000), 2),\n",
    "        \"average_txn_amount\": round(random.uniform(100, 10000), 2),\n",
    "    }"
   ]
  },
  {
   "cell_type": "code",
   "execution_count": null,
   "id": "c76ef4e5",
   "metadata": {},
   "outputs": [],
   "source": [
    "def sanction_checker(entity_name: str) -> dict:\n",
    "    \"\"\"\n",
    "    Simulates sanction list checking.\n",
    "    In real systems, this would query global sanction databases.\n",
    "    \"\"\"\n",
    "\n",
    "    sanction_list = {\n",
    "        \"Mohammed Ali\": {\"list\": \"UN Terrorist List\", \"confidence\": 0.95},\n",
    "        \"Jane Doe\": {\"list\": \"EU Sanctions\", \"confidence\": 0.85},\n",
    "        \"John Smith\": {\"list\": \"OFAC\", \"confidence\": 0.90},\n",
    "        \"Alice Johnson\": {\"list\": \"UN Sanctions\", \"confidence\": 0.80},\n",
    "        \"Sakkarai Pandian\": {\"list\": \"UN Sanctions\", \"confidence\": 0.75},\n",
    "        \"Saambu\": {\"list\": \"RBI Sanctions\", \"confidence\": 0.70},\n",
    "        \"Priya Singh\": {\"list\": \"EU Sanctions\", \"confidence\": 0.82},\n",
    "        \"Rahul Verma\": {\"list\": \"OFAC\", \"confidence\": 0.76},\n",
    "        \"Vikram Rao\": {\"list\": \"RBI Sanctions\", \"confidence\": 0.73},\n",
    "        \"Neha Nair\": {\"list\": \"OFAC\", \"confidence\": 0.81},\n",
    "        \"Global Trading Ltd\": {\"list\": \"UN Sanctions\", \"confidence\": 0.88},\n",
    "        \"Shanghai Corp\": {\"list\": \"UN Sanctions\", \"confidence\": 0.85},\n",
    "        \"Wang Enterprises\": {\"list\": \"UN Sanctions\", \"confidence\": 0.80}\n",
    "    }"
   ]
  },
  {
   "cell_type": "code",
   "execution_count": 23,
   "id": "93094b5e",
   "metadata": {},
   "outputs": [],
   "source": [
    "def risk_scorer(kyc: dict, txn_analysis: dict, sanctions: dict) -> dict:\n",
    "    \"\"\"\n",
    "    Simulates risk scoring based on KYC, transaction analysis, and sanctions data.\n",
    "    In real systems, this would use complex algorithms and rules.\n",
    "    \"\"\"\n",
    "\n",
    "    score = 0\n",
    "    reasons = []\n",
    "\n",
    "    # KYC based scoring\n",
    "    if kyc.get(\"pep\"):\n",
    "        score += 40\n",
    "        reasons.append(\"PEP status\")\n",
    "    if kyc.get(\"risk_flags\") == \"high\":\n",
    "        score += 30\n",
    "        reasons.append(\"High risk flag in KYC\")\n",
    "    elif kyc.get(\"risk_flags\") == \"medium\":\n",
    "        score += 15\n",
    "        reasons.append(\"Medium risk flag in KYC\")\n",
    "\n",
    "    # Transaction analysis based scoring\n",
    "    suspicious_patterns = txn_analysis.get(\"suspicious_patterns\", [])\n",
    "    if \"structuring_pattern\" in suspicious_patterns:\n",
    "        score += 25\n",
    "        reasons.append(\"Structuring pattern detected\")\n",
    "    if \"rapid_movement\" in suspicious_patterns:\n",
    "        score += 20\n",
    "        reasons.append(\"Rapid movement of funds\")\n",
    "    if \"layering_activity\" in suspicious_patterns:\n",
    "        score += 15\n",
    "        reasons.append(\"Layering activity detected\")\n",
    "    if \"cash_intensive\" in suspicious_patterns:\n",
    "        score += 10\n",
    "        reasons.append(\"Cash intensive transactions\")\n",
    "    if \"third_party_payments\" in suspicious_patterns:\n",
    "        score += 10\n",
    "        reasons.append(\"Third party payments\")\n",
    "    if \"crypto_activity\" in suspicious_patterns:\n",
    "        score += 20\n",
    "        reasons.append(\"Crypto related activity\")\n",
    "    if \"unusual_jusrisdiction\" in suspicious_patterns:\n",
    "        score += 15\n",
    "        reasons.append(\"Transactions with unusual jurisdictions\")\n",
    "\n",
    "    # Sanctions based scoring\n",
    "    if sanctions:\n",
    "        score += 50 * sanctions.get(\"confidence\", 0)\n",
    "        reasons.append(f\"Listed on {sanctions.get('list')} with confidence {sanctions.get('confidence')}\")\n",
    "\n",
    "    # Cap the score at 100\n",
    "    final_score = min(score, 100)\n",
    "\n",
    "    return {\n",
    "        \"risk_score\": final_score,\n",
    "        \"risk_flags\": reasons\n",
    "    }"
   ]
  },
  {
   "cell_type": "markdown",
   "id": "d4d9ccab",
   "metadata": {},
   "source": [
    "##### ==========================================\n",
    "## -----------Langgraph Nodes-----------\n",
    "##### =========================================="
   ]
  },
  {
   "cell_type": "code",
   "execution_count": 26,
   "id": "9e990f94",
   "metadata": {},
   "outputs": [],
   "source": [
    "from langchain_core.prompts import ChatPromptTemplate, SystemMessagePromptTemplate, HumanMessagePromptTemplate"
   ]
  },
  {
   "cell_type": "code",
   "execution_count": 24,
   "id": "8691564a",
   "metadata": {},
   "outputs": [],
   "source": [
    "def enrich_node(state: AMLState) -> AMLState:\n",
    "    customer_id = state.alert.get(\"customer_id\")\n",
    "    entity_name = state.alert.get(\"entity_name\")\n",
    "\n",
    "    kyc = kyc_lookup(customer_id)\n",
    "    txn_analysis = transaction_analyzer(customer_id)\n",
    "    sanctions = sanction_checker(entity_name)\n",
    "\n",
    "    state.enrichments = {\n",
    "        \"kyc\": kyc,\n",
    "        \"transaction_analysis\": txn_analysis,\n",
    "        \"sanctions\": sanctions\n",
    "    }\n",
    "    return state"
   ]
  },
  {
   "cell_type": "code",
   "execution_count": 25,
   "id": "141c1a50",
   "metadata": {},
   "outputs": [],
   "source": [
    "def risk_node(state: AMLState) -> AMLState:\n",
    "    kyc = state.enrichments.get(\"kyc\", {})\n",
    "    txn_analysis = state.enrichments.get(\"transaction_analysis\", {})\n",
    "    sanctions = state.enrichments.get(\"sanctions\", {})\n",
    "\n",
    "    risk = risk_scorer(kyc, txn_analysis, sanctions)\n",
    "    state.risk = risk\n",
    "    return state"
   ]
  },
  {
   "cell_type": "code",
   "execution_count": 27,
   "id": "ae90b305",
   "metadata": {},
   "outputs": [],
   "source": [
    "def draft_node(state:  AMLState) -> AMLState:\n",
    "    prompt = ChatPromptTemplate.from_messages([\n",
    "        SystemMessagePromptTemplate.from_template(\n",
    "            \"You are an expert AML analyst. Based on the alert details, KYC data, transaction analysis, sanctions check, and risk score, draft a concise report summarizing the findings.\"\n",
    "        ),\n",
    "        HumanMessagePromptTemplate.from_template(\n",
    "            \"\"\"\n",
    "            Alert Details: {alert}\n",
    "            KYC Data: {kyc}\n",
    "            Transaction Analysis: {txn_analysis}\n",
    "            Sanctions Check: {sanctions}\n",
    "            Risk Score: {risk}\n",
    "\n",
    "            Draft a report highlighting key points and recommendations.\n",
    "            \"\"\"\n",
    "        )\n",
    "    ])\n",
    "\n",
    "    model = MistralChatModel(MistralENV())\n",
    "\n",
    "    # LCEL: prompt | model | (lambda x: x.content)\n",
    "    lcel_chain = prompt | model | (lambda x: x.content)\n",
    "\n",
    "    response = lcel_chain.invoke({\n",
    "        \"alert\": state.alert,\n",
    "        \"kyc\": state.enrichments.get(\"kyc\"),\n",
    "        \"txn_analysis\": state.enrichments.get(\"transaction_analysis\"),\n",
    "        \"sanctions\": state.enrichments.get(\"sanctions\"),\n",
    "        \"risk\": state.risk\n",
    "    })\n",
    "\n",
    "    state.draft = {\"report\": response}\n",
    "    return state"
   ]
  },
  {
   "cell_type": "markdown",
   "id": "832edc92",
   "metadata": {},
   "source": [
    "## Langgraph Orchestration"
   ]
  },
  {
   "cell_type": "code",
   "execution_count": 28,
   "id": "e155c0bb",
   "metadata": {},
   "outputs": [],
   "source": [
    "from langgraph.graph import StateGraph, START, END\n",
    "\n",
    "builder = StateGraph(AMLState)\n",
    "\n",
    "builder.add_node(\"enrich_node\", enrich_node)\n",
    "builder.add_node(\"risk_node\", risk_node)\n",
    "builder.add_node(\"draft_node\", draft_node)\n",
    "\n",
    "builder.set_entry_point(\"enrich_node\")\n",
    "builder.add_edge(\"enrich_node\", \"risk_node\")\n",
    "builder.add_edge(\"risk_node\", \"draft_node\")\n",
    "builder.add_edge(\"draft_node\", END)\n",
    "\n",
    "aml_graph = builder.compile()"
   ]
  },
  {
   "cell_type": "code",
   "execution_count": 29,
   "id": "85aff73f",
   "metadata": {},
   "outputs": [
    {
     "data": {
      "image/png": "[encoded data removed]",
      "text/plain": [
       "<IPython.core.display.Image object>"
      ]
     },
     "metadata": {},
     "output_type": "display_data"
    }
   ],
   "source": [
    "from IPython.display import display, Image\n",
    "\n",
    "display(Image(aml_graph.get_graph().draw_mermaid_png()))"
   ]
  },
  {
   "cell_type": "code",
   "execution_count": null,
   "id": "5685b62c",
   "metadata": {},
   "outputs": [
    {
     "ename": "ValidationError",
     "evalue": "3 validation errors for AMLState\nenrichments\n  Field required [type=missing, input_value={'alert': {'customer_id':...me': 'Wang Enterpries'}}, input_type=dict]\n    For further information visit https://errors.pydantic.dev/2.11/v/missing\nrisk\n  Field required [type=missing, input_value={'alert': {'customer_id':...me': 'Wang Enterpries'}}, input_type=dict]\n    For further information visit https://errors.pydantic.dev/2.11/v/missing\ndraft\n  Field required [type=missing, input_value={'alert': {'customer_id':...me': 'Wang Enterpries'}}, input_type=dict]\n    For further information visit https://errors.pydantic.dev/2.11/v/missing",
     "output_type": "error",
     "traceback": [
      "\u001b[31m---------------------------------------------------------------------------\u001b[39m",
      "\u001b[31mValidationError\u001b[39m                           Traceback (most recent call last)",
      "\u001b[36mCell\u001b[39m\u001b[36m \u001b[39m\u001b[32mIn[30]\u001b[39m\u001b[32m, line 3\u001b[39m\n\u001b[32m      1\u001b[39m \u001b[38;5;28;01mif\u001b[39;00m \u001b[34m__name__\u001b[39m == \u001b[33m\"\u001b[39m\u001b[33m__main__\u001b[39m\u001b[33m\"\u001b[39m:\n\u001b[32m      2\u001b[39m     \u001b[38;5;66;03m# Example alert\u001b[39;00m\n\u001b[32m----> \u001b[39m\u001b[32m3\u001b[39m     alert = \u001b[43mAMLState\u001b[49m\u001b[43m(\u001b[49m\u001b[43malert\u001b[49m\u001b[43m=\u001b[49m\u001b[43m{\u001b[49m\u001b[33;43m\"\u001b[39;49m\u001b[33;43mcustomer_id\u001b[39;49m\u001b[33;43m\"\u001b[39;49m\u001b[43m:\u001b[49m\u001b[33;43m\"\u001b[39;49m\u001b[33;43m1\u001b[39;49m\u001b[33;43m\"\u001b[39;49m\u001b[43m,\u001b[49m\n\u001b[32m      4\u001b[39m \u001b[43m                            \u001b[49m\u001b[33;43m\"\u001b[39;49m\u001b[33;43mentity_name\u001b[39;49m\u001b[33;43m\"\u001b[39;49m\u001b[43m:\u001b[49m\u001b[33;43m\"\u001b[39;49m\u001b[33;43mWang Enterpries\u001b[39;49m\u001b[33;43m\"\u001b[39;49m\u001b[43m}\u001b[49m\u001b[43m)\u001b[49m\n\u001b[32m      6\u001b[39m     result = aml_graph.invoke({\u001b[33m\"\u001b[39m\u001b[33malert\u001b[39m\u001b[33m\"\u001b[39m: alert})\n\u001b[32m      7\u001b[39m     \u001b[38;5;28mprint\u001b[39m(\u001b[33m\"\u001b[39m\u001b[33mAuto-filled draft report:\u001b[39m\u001b[33m\"\u001b[39m)\n",
      "\u001b[36mFile \u001b[39m\u001b[32m~/Documents/backend_api/lib/python3.12/site-packages/pydantic/main.py:253\u001b[39m, in \u001b[36mBaseModel.__init__\u001b[39m\u001b[34m(self, **data)\u001b[39m\n\u001b[32m    251\u001b[39m \u001b[38;5;66;03m# `__tracebackhide__` tells pytest and some other tools to omit this function from tracebacks\u001b[39;00m\n\u001b[32m    252\u001b[39m __tracebackhide__ = \u001b[38;5;28;01mTrue\u001b[39;00m\n\u001b[32m--> \u001b[39m\u001b[32m253\u001b[39m validated_self = \u001b[38;5;28;43mself\u001b[39;49m\u001b[43m.\u001b[49m\u001b[43m__pydantic_validator__\u001b[49m\u001b[43m.\u001b[49m\u001b[43mvalidate_python\u001b[49m\u001b[43m(\u001b[49m\u001b[43mdata\u001b[49m\u001b[43m,\u001b[49m\u001b[43m \u001b[49m\u001b[43mself_instance\u001b[49m\u001b[43m=\u001b[49m\u001b[38;5;28;43mself\u001b[39;49m\u001b[43m)\u001b[49m\n\u001b[32m    254\u001b[39m \u001b[38;5;28;01mif\u001b[39;00m \u001b[38;5;28mself\u001b[39m \u001b[38;5;129;01mis\u001b[39;00m \u001b[38;5;129;01mnot\u001b[39;00m validated_self:\n\u001b[32m    255\u001b[39m     warnings.warn(\n\u001b[32m    256\u001b[39m         \u001b[33m'\u001b[39m\u001b[33mA custom validator is returning a value other than `self`.\u001b[39m\u001b[38;5;130;01m\\n\u001b[39;00m\u001b[33m'\u001b[39m\n\u001b[32m    257\u001b[39m         \u001b[33m\"\u001b[39m\u001b[33mReturning anything other than `self` from a top level model validator isn\u001b[39m\u001b[33m'\u001b[39m\u001b[33mt supported when validating via `__init__`.\u001b[39m\u001b[38;5;130;01m\\n\u001b[39;00m\u001b[33m\"\u001b[39m\n\u001b[32m    258\u001b[39m         \u001b[33m'\u001b[39m\u001b[33mSee the `model_validator` docs (https://docs.pydantic.dev/latest/concepts/validators/#model-validators) for more details.\u001b[39m\u001b[33m'\u001b[39m,\n\u001b[32m    259\u001b[39m         stacklevel=\u001b[32m2\u001b[39m,\n\u001b[32m    260\u001b[39m     )\n",
      "\u001b[31mValidationError\u001b[39m: 3 validation errors for AMLState\nenrichments\n  Field required [type=missing, input_value={'alert': {'customer_id':...me': 'Wang Enterpries'}}, input_type=dict]\n    For further information visit https://errors.pydantic.dev/2.11/v/missing\nrisk\n  Field required [type=missing, input_value={'alert': {'customer_id':...me': 'Wang Enterpries'}}, input_type=dict]\n    For further information visit https://errors.pydantic.dev/2.11/v/missing\ndraft\n  Field required [type=missing, input_value={'alert': {'customer_id':...me': 'Wang Enterpries'}}, input_type=dict]\n    For further information visit https://errors.pydantic.dev/2.11/v/missing"
     ]
    }
   ],
   "source": [
    "if __name__ == \"__main__\":\n",
    "    # Example alert\n",
    "    alert = AMLState(alert={\"customer_id\":\"1\",\n",
    "                            \"entity_name\":\"Wang Enterpries\"},\n",
    "                    draft={},\n",
    "                    enrichments={},\n",
    "                    risk={}\n",
    "                    )\n",
    "\n",
    "    result = aml_graph.invoke({\"alert\": alert})\n",
    "    print(\"Auto-filled draft report:\")\n",
    "    print(json.dumps(result[\"draft\"], indent=2))"
   ]
  },
  {
   "cell_type": "code",
   "execution_count": null,
   "id": "5c2ed69a",
   "metadata": {},
   "outputs": [],
   "source": []
  }
 ],
 "metadata": {
  "kernelspec": {
   "display_name": "backend_api (3.12.3)",
   "language": "python",
   "name": "python3"
  },
  "language_info": {
   "codemirror_mode": {
    "name": "ipython",
    "version": 3
   },
   "file_extension": ".py",
   "mimetype": "text/x-python",
   "name": "python",
   "nbconvert_exporter": "python",
   "pygments_lexer": "ipython3",
   "version": "3.12.3"
  }
 },
 "nbformat": 4,
 "nbformat_minor": 5
}
